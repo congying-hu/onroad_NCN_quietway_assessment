{
 "cells": [
  {
   "cell_type": "code",
   "execution_count": 1,
   "id": "661a16a9-e353-4e2d-b601-6629d1d0824f",
   "metadata": {},
   "outputs": [],
   "source": [
    "# Define file path and paramaters\n",
    "agilysis_file_path = \"/Users/hucongying/NCN/Quietway_Assessment/Sustran_data/Sustran.gpkg\"\n",
    "ncn_file_path = \"/Users/hucongying/NCN/Quietway_Assessment/National_Cycle_Network_(Public).geojson\"\n",
    "settlement_path = '/Users/hucongying/NCN/Quietway_Assessment/Useless Settlement Estimated 2020-shapefiles/Settlements_2020_MHW.shp'\n",
    "buffer=10"
   ]
  },
  {
   "cell_type": "code",
   "execution_count": 2,
   "id": "d39ee1de-240d-4753-b37f-fa57e1404627",
   "metadata": {},
   "outputs": [
    {
     "name": "stderr",
     "output_type": "stream",
     "text": [
      "/var/folders/74/ch5llxvd3klg6n6_l6_s335w0000gn/T/ipykernel_70864/3651934155.py:1: DeprecationWarning: Shapely 2.0 is installed, but because PyGEOS is also installed, GeoPandas still uses PyGEOS by default. However, starting with version 0.14, the default will switch to Shapely. To force to use Shapely 2.0 now, you can either uninstall PyGEOS or set the environment variable USE_PYGEOS=0. You can do this before starting the Python process, or in your code before importing geopandas:\n",
      "\n",
      "import os\n",
      "os.environ['USE_PYGEOS'] = '0'\n",
      "import geopandas\n",
      "\n",
      "In the next release, GeoPandas will switch to using Shapely by default, even if PyGEOS is installed. If you only have PyGEOS installed to get speed-ups, this switch should be smooth. However, if you are using PyGEOS directly (calling PyGEOS functions on geometries from GeoPandas), this will then stop working and you are encouraged to migrate from PyGEOS to Shapely 2.0 (https://shapely.readthedocs.io/en/latest/migration_pygeos.html).\n",
      "  import geopandas as gpd\n"
     ]
    }
   ],
   "source": [
    "import geopandas as gpd\n",
    "import pandas as pd\n",
    "import numpy as np"
   ]
  },
  {
   "cell_type": "code",
   "execution_count": 3,
   "id": "2448c298",
   "metadata": {
    "scrolled": true
   },
   "outputs": [
    {
     "name": "stdout",
     "output_type": "stream",
     "text": [
      "             OS Link ID    Road Classification Road Classification Number   \n",
      "0  osgb4000000004292146  Classified Unnumbered                        NaN  \\\n",
      "1  osgb4000000004292268           Unclassified                        NaN   \n",
      "2  osgb4000000004292271                 A Road                        A84   \n",
      "3  osgb4000000004292724  Classified Unnumbered                        NaN   \n",
      "4  osgb4000000004292780                Unknown                        NaN   \n",
      "\n",
      "          Form of Way  Length (km) Trunk Road Highway Authority Code   \n",
      "0  Single Carriageway     2.209182      false              S12000030  \\\n",
      "1  Single Carriageway     1.308137      false              S12000030   \n",
      "2  Single Carriageway     2.058606       true              S12000030   \n",
      "3  Single Carriageway     0.656623      false              S12000030   \n",
      "4  Single Carriageway     0.614588      false              S12000030   \n",
      "\n",
      "  Highway Authority Name  Speed Limit (mph) Speed Limit Evidence date  ...   \n",
      "0               Stirling                 60                       NaN  ...  \\\n",
      "1               Stirling                 30                       NaN  ...   \n",
      "2               Stirling                 60                2018-09-25  ...   \n",
      "3               Stirling                 60                       NaN  ...   \n",
      "4               Stirling                 30                       NaN  ...   \n",
      "\n",
      "      Modelled AADT Band Percent over Limit Percent over ACPO   \n",
      "0  Band 1: 500 and under       1.790259e-07      2.783547e-10  \\\n",
      "1  Band 1: 500 and under       3.338650e-02      9.553415e-03   \n",
      "2  Band 6: 5000 to 10000       1.627961e-02      3.121336e-04   \n",
      "3  Band 1: 500 and under       7.978063e-13               NaN   \n",
      "4  Band 1: 500 and under       3.053640e-03      1.690786e-04   \n",
      "\n",
      "  Percent over 15 Above  Number over Limit  Number over ACPO   \n",
      "0          3.604894e-13                NaN               NaN  \\\n",
      "1          3.842157e-04                1.0               NaN   \n",
      "2          2.762539e-06              104.0               2.0   \n",
      "3                   NaN                NaN               NaN   \n",
      "4          6.874636e-08                NaN               NaN   \n",
      "\n",
      "   Number over 15 Above  roadwidth_average  roadwidth_minimum   \n",
      "0                   NaN                5.2                NaN  \\\n",
      "1                   NaN                NaN                NaN   \n",
      "2                   NaN                9.2                6.9   \n",
      "3                   NaN                4.0                3.2   \n",
      "4                   NaN                5.0                4.1   \n",
      "\n",
      "                                            geometry  \n",
      "0  MULTILINESTRING ((264275.866 734983.274, 26433...  \n",
      "1  MULTILINESTRING ((253889.412 720314.264, 25392...  \n",
      "2  MULTILINESTRING ((256397.865 718376.037, 25639...  \n",
      "3  MULTILINESTRING ((261274.037 707315.032, 26127...  \n",
      "4  MULTILINESTRING ((255564.000 716216.000, 25558...  \n",
      "\n",
      "[5 rows x 147 columns]\n"
     ]
    }
   ],
   "source": [
    "# Read Agilysis data\n",
    "agilysis = gpd.read_file(agilysis_file_path)\n",
    "print(agilysis.head())"
   ]
  },
  {
   "cell_type": "code",
   "execution_count": 4,
   "id": "8aed3ef6-1d67-472c-a07d-29f5da14437b",
   "metadata": {},
   "outputs": [
    {
     "name": "stdout",
     "output_type": "stream",
     "text": [
      "EPSG:27700\n"
     ]
    }
   ],
   "source": [
    "# Coordinate reference system \n",
    "print(agilysis.crs)  "
   ]
  },
  {
   "cell_type": "code",
   "execution_count": 5,
   "id": "0be9a14f-6c33-4c55-a61b-5ed7185b5281",
   "metadata": {},
   "outputs": [
    {
     "name": "stdout",
     "output_type": "stream",
     "text": [
      "   FID   Desc_ Greenway RouteType  RouteNo  LinkNo    RouteCat OpenStatus   \n",
      "0    1  OnRoad       No       NCN    601.0     0.0  Main Route       Open  \\\n",
      "1    2  OnRoad       No       NCN      1.0     0.0  Main Route       Open   \n",
      "2    3  OnRoad       No       NCN      1.0     0.0  Main Route       Open   \n",
      "3    4  OnRoad       No       RCN     61.0     0.0         N/A       Open   \n",
      "4    5  OnRoad       No       NCN      1.0     0.0  Main Route       Open   \n",
      "\n",
      "   Surface     Quality Lighting     RoadClass   \n",
      "0  Asphalt       Rough   NotLit    Minor Road  \\\n",
      "1  Asphalt    Standard  PartLit  Local Street   \n",
      "2  Asphalt    Standard  PartLit    Minor Road   \n",
      "3  Asphalt  Acceptable   NotLit    Minor Road   \n",
      "4  Asphalt    Standard   NotLit    Minor Road   \n",
      "\n",
      "                               GlobalID  SegmentID   \n",
      "0  59ef8425-72cd-4787-a8cd-4cdf71d69570        828  \\\n",
      "1  89cd191e-dcc8-41d0-ac34-bd03caccb67d      11459   \n",
      "2  1fd2cc0b-466f-4d06-abd2-b9baadb6c2ff      31285   \n",
      "3  cf27eabd-8973-4bab-9a40-2e55af46e731       5731   \n",
      "4  1b6afb6a-d525-41b9-b46f-49a4c53b63c1      45125   \n",
      "\n",
      "                                            geometry  \n",
      "0  LINESTRING (-2.09300 53.51805, -2.09258 53.517...  \n",
      "1  LINESTRING (-4.16199 57.47446, -4.16141 57.474...  \n",
      "2  LINESTRING (-4.16199 57.47446, -4.16301 57.474...  \n",
      "3  LINESTRING (-4.26775 53.12840, -4.26768 53.128...  \n",
      "4  LINESTRING (1.08355 52.03149, 1.08379 52.03144...  \n",
      "EPSG:4326\n"
     ]
    }
   ],
   "source": [
    "# Read the ncn data\n",
    "\n",
    "ncn = gpd.read_file(ncn_file_path)\n",
    "\n",
    "# Preview the data\n",
    "print(ncn.head())\n",
    "print(ncn.crs)  # Coordinate reference system\n"
   ]
  },
  {
   "cell_type": "code",
   "execution_count": 6,
   "id": "3093d857-b1b1-4e99-8ea0-de4fbe5563d5",
   "metadata": {},
   "outputs": [],
   "source": [
    "# Transfer the coordinate reference system\n",
    "ncn=ncn.to_crs(epsg=27700) "
   ]
  },
  {
   "cell_type": "code",
   "execution_count": 7,
   "id": "92a356a7-3e0f-4384-8cc8-16bea4e77b41",
   "metadata": {},
   "outputs": [
    {
     "data": {
      "text/plain": [
       "Index(['FID', 'Desc_', 'Greenway', 'RouteType', 'RouteNo', 'LinkNo',\n",
       "       'RouteCat', 'OpenStatus', 'Surface', 'Quality', 'Lighting', 'RoadClass',\n",
       "       'GlobalID', 'SegmentID', 'geometry'],\n",
       "      dtype='object')"
      ]
     },
     "execution_count": 7,
     "metadata": {},
     "output_type": "execute_result"
    }
   ],
   "source": [
    "# View columns names\n",
    "ncn.columns"
   ]
  },
  {
   "cell_type": "code",
   "execution_count": 8,
   "id": "26df2e0a-8731-4509-9a8d-0ccceaf6c8af",
   "metadata": {},
   "outputs": [],
   "source": [
    "# Get dataset when routes are on road\n",
    "ncn_onroad = ncn[ncn['Desc_'] == 'OnRoad']"
   ]
  },
  {
   "cell_type": "code",
   "execution_count": 9,
   "id": "5971f216-c945-4f3b-973c-37a6494d5695",
   "metadata": {},
   "outputs": [
    {
     "name": "stdout",
     "output_type": "stream",
     "text": [
      "Number of routes on road is 16678\n"
     ]
    }
   ],
   "source": [
    "print(f\"Number of routes on road is {len(ncn_onroad)}\")"
   ]
  },
  {
   "cell_type": "code",
   "execution_count": 10,
   "id": "f150b29b-077e-47ae-869f-e7d24e81ff45",
   "metadata": {},
   "outputs": [
    {
     "name": "stderr",
     "output_type": "stream",
     "text": [
      "/Users/hucongying/mambaforge/lib/python3.10/site-packages/pygeos/constructive.py:175: RuntimeWarning: invalid value encountered in buffer\n",
      "  return lib.buffer(\n"
     ]
    }
   ],
   "source": [
    "# Create 10m buffer for on road ncn dataset\n",
    "ncn_buffered = ncn_onroad.copy()\n",
    "ncn_buffered['geometry'] = ncn_buffered.geometry.buffer(buffer)\n"
   ]
  },
  {
   "cell_type": "code",
   "execution_count": 11,
   "id": "3a72d7e8-bb82-4c86-9bb0-ce47c3b0d8df",
   "metadata": {
    "scrolled": true
   },
   "outputs": [
    {
     "name": "stderr",
     "output_type": "stream",
     "text": [
      "/Users/hucongying/mambaforge/lib/python3.10/site-packages/pygeos/set_operations.py:388: RuntimeWarning: invalid value encountered in unary_union\n",
      "  result = lib.unary_union(collections, **kwargs)\n"
     ]
    }
   ],
   "source": [
    "# Merge buffers\n",
    "buffer_union = ncn_buffered.unary_union"
   ]
  },
  {
   "cell_type": "code",
   "execution_count": 13,
   "id": "7c9780ee-6b04-49d8-b785-798eb4b1e5a8",
   "metadata": {},
   "outputs": [
    {
     "name": "stdout",
     "output_type": "stream",
     "text": [
      "Done in 1158.01 seconds\n"
     ]
    },
    {
     "name": "stderr",
     "output_type": "stream",
     "text": [
      "/Users/hucongying/mambaforge/lib/python3.10/site-packages/pygeos/set_operations.py:129: RuntimeWarning: invalid value encountered in intersection\n",
      "  return lib.intersection(a, b, **kwargs)\n"
     ]
    }
   ],
   "source": [
    "import time \n",
    "# to oversee the progress\n",
    "start = time.time()\n",
    "agilysis['geometry_intersection'] = agilysis.geometry.intersection(buffer_union)\n",
    "print(\"Done in\", round(time.time() - start, 2), \"seconds\")"
   ]
  },
  {
   "cell_type": "code",
   "execution_count": 14,
   "id": "cb3bfca9-c73d-472f-b9d7-6aa0c94e23c9",
   "metadata": {},
   "outputs": [],
   "source": [
    "# # Compute intersection geometry and lengths\n",
    "# agilysis['geometry_intersection'] = agilysis.geometry.intersection(buffer_union)"
   ]
  },
  {
   "cell_type": "code",
   "execution_count": 15,
   "id": "740cbb9d-fd30-4b83-b017-9b0f0113ec24",
   "metadata": {},
   "outputs": [],
   "source": [
    "# Calculate original and intersected lengths\n",
    "agilysis['length_total'] = agilysis.geometry.length\n",
    "agilysis['length_in_buffer'] = agilysis['geometry_intersection'].length"
   ]
  },
  {
   "cell_type": "code",
   "execution_count": 16,
   "id": "4182fb45-9a99-426b-b758-788fb2689550",
   "metadata": {},
   "outputs": [],
   "source": [
    "# Calculate percentage and filter\n",
    "agilysis['percent_in_buffer'] = agilysis['length_in_buffer'] / agilysis['length_total']\n",
    "agilysis_selected = agilysis[agilysis['percent_in_buffer'] >= 0.9]\n"
   ]
  },
  {
   "cell_type": "code",
   "execution_count": 17,
   "id": "c17eed89-540f-4eb3-aec8-84df02fa5b39",
   "metadata": {},
   "outputs": [
    {
     "data": {
      "text/html": [
       "<div>\n",
       "<style scoped>\n",
       "    .dataframe tbody tr th:only-of-type {\n",
       "        vertical-align: middle;\n",
       "    }\n",
       "\n",
       "    .dataframe tbody tr th {\n",
       "        vertical-align: top;\n",
       "    }\n",
       "\n",
       "    .dataframe thead th {\n",
       "        text-align: right;\n",
       "    }\n",
       "</style>\n",
       "<table border=\"1\" class=\"dataframe\">\n",
       "  <thead>\n",
       "    <tr style=\"text-align: right;\">\n",
       "      <th></th>\n",
       "      <th>OS Link ID</th>\n",
       "      <th>Road Classification</th>\n",
       "      <th>Road Classification Number</th>\n",
       "      <th>Form of Way</th>\n",
       "      <th>Length (km)</th>\n",
       "      <th>Trunk Road</th>\n",
       "      <th>Highway Authority Code</th>\n",
       "      <th>Highway Authority Name</th>\n",
       "      <th>Speed Limit (mph)</th>\n",
       "      <th>Speed Limit Evidence date</th>\n",
       "      <th>...</th>\n",
       "      <th>Number over Limit</th>\n",
       "      <th>Number over ACPO</th>\n",
       "      <th>Number over 15 Above</th>\n",
       "      <th>roadwidth_average</th>\n",
       "      <th>roadwidth_minimum</th>\n",
       "      <th>geometry</th>\n",
       "      <th>geometry_intersection</th>\n",
       "      <th>length_total</th>\n",
       "      <th>length_in_buffer</th>\n",
       "      <th>percent_in_buffer</th>\n",
       "    </tr>\n",
       "  </thead>\n",
       "  <tbody>\n",
       "    <tr>\n",
       "      <th>0</th>\n",
       "      <td>osgb4000000004292146</td>\n",
       "      <td>Classified Unnumbered</td>\n",
       "      <td>NaN</td>\n",
       "      <td>Single Carriageway</td>\n",
       "      <td>2.209182</td>\n",
       "      <td>false</td>\n",
       "      <td>S12000030</td>\n",
       "      <td>Stirling</td>\n",
       "      <td>60</td>\n",
       "      <td>NaN</td>\n",
       "      <td>...</td>\n",
       "      <td>NaN</td>\n",
       "      <td>NaN</td>\n",
       "      <td>NaN</td>\n",
       "      <td>5.2</td>\n",
       "      <td>NaN</td>\n",
       "      <td>MULTILINESTRING ((264275.866 734983.274, 26433...</td>\n",
       "      <td>MULTILINESTRING ((264275.866 734983.274, 26433...</td>\n",
       "      <td>2209.182012</td>\n",
       "      <td>2209.182012</td>\n",
       "      <td>1.0</td>\n",
       "    </tr>\n",
       "    <tr>\n",
       "      <th>3</th>\n",
       "      <td>osgb4000000004292724</td>\n",
       "      <td>Classified Unnumbered</td>\n",
       "      <td>NaN</td>\n",
       "      <td>Single Carriageway</td>\n",
       "      <td>0.656623</td>\n",
       "      <td>false</td>\n",
       "      <td>S12000030</td>\n",
       "      <td>Stirling</td>\n",
       "      <td>60</td>\n",
       "      <td>NaN</td>\n",
       "      <td>...</td>\n",
       "      <td>NaN</td>\n",
       "      <td>NaN</td>\n",
       "      <td>NaN</td>\n",
       "      <td>4.0</td>\n",
       "      <td>3.2</td>\n",
       "      <td>MULTILINESTRING ((261274.037 707315.032, 26127...</td>\n",
       "      <td>MULTILINESTRING ((261274.037 707315.032, 26127...</td>\n",
       "      <td>656.622934</td>\n",
       "      <td>656.622934</td>\n",
       "      <td>1.0</td>\n",
       "    </tr>\n",
       "    <tr>\n",
       "      <th>4</th>\n",
       "      <td>osgb4000000004292780</td>\n",
       "      <td>Unknown</td>\n",
       "      <td>NaN</td>\n",
       "      <td>Single Carriageway</td>\n",
       "      <td>0.614588</td>\n",
       "      <td>false</td>\n",
       "      <td>S12000030</td>\n",
       "      <td>Stirling</td>\n",
       "      <td>30</td>\n",
       "      <td>NaN</td>\n",
       "      <td>...</td>\n",
       "      <td>NaN</td>\n",
       "      <td>NaN</td>\n",
       "      <td>NaN</td>\n",
       "      <td>5.0</td>\n",
       "      <td>4.1</td>\n",
       "      <td>MULTILINESTRING ((255564.000 716216.000, 25558...</td>\n",
       "      <td>MULTILINESTRING ((255564.000 716216.000, 25558...</td>\n",
       "      <td>614.587727</td>\n",
       "      <td>614.587727</td>\n",
       "      <td>1.0</td>\n",
       "    </tr>\n",
       "    <tr>\n",
       "      <th>5</th>\n",
       "      <td>osgb4000000004293117</td>\n",
       "      <td>Classified Unnumbered</td>\n",
       "      <td>NaN</td>\n",
       "      <td>Single Carriageway</td>\n",
       "      <td>1.174929</td>\n",
       "      <td>false</td>\n",
       "      <td>S12000030</td>\n",
       "      <td>Stirling</td>\n",
       "      <td>60</td>\n",
       "      <td>NaN</td>\n",
       "      <td>...</td>\n",
       "      <td>NaN</td>\n",
       "      <td>NaN</td>\n",
       "      <td>NaN</td>\n",
       "      <td>4.4</td>\n",
       "      <td>3.1</td>\n",
       "      <td>MULTILINESTRING ((258317.000 732240.000, 25829...</td>\n",
       "      <td>MULTILINESTRING ((258317.000 732240.000, 25829...</td>\n",
       "      <td>1174.929448</td>\n",
       "      <td>1174.929448</td>\n",
       "      <td>1.0</td>\n",
       "    </tr>\n",
       "    <tr>\n",
       "      <th>6</th>\n",
       "      <td>osgb4000000004293123</td>\n",
       "      <td>Classified Unnumbered</td>\n",
       "      <td>NaN</td>\n",
       "      <td>Single Carriageway</td>\n",
       "      <td>1.204896</td>\n",
       "      <td>false</td>\n",
       "      <td>S12000030</td>\n",
       "      <td>Stirling</td>\n",
       "      <td>60</td>\n",
       "      <td>NaN</td>\n",
       "      <td>...</td>\n",
       "      <td>NaN</td>\n",
       "      <td>NaN</td>\n",
       "      <td>NaN</td>\n",
       "      <td>5.8</td>\n",
       "      <td>4.0</td>\n",
       "      <td>MULTILINESTRING ((259323.217 733055.412, 25933...</td>\n",
       "      <td>MULTILINESTRING ((259323.217 733055.412, 25933...</td>\n",
       "      <td>1204.895873</td>\n",
       "      <td>1204.895873</td>\n",
       "      <td>1.0</td>\n",
       "    </tr>\n",
       "  </tbody>\n",
       "</table>\n",
       "<p>5 rows × 151 columns</p>\n",
       "</div>"
      ],
      "text/plain": [
       "             OS Link ID    Road Classification Road Classification Number   \n",
       "0  osgb4000000004292146  Classified Unnumbered                        NaN  \\\n",
       "3  osgb4000000004292724  Classified Unnumbered                        NaN   \n",
       "4  osgb4000000004292780                Unknown                        NaN   \n",
       "5  osgb4000000004293117  Classified Unnumbered                        NaN   \n",
       "6  osgb4000000004293123  Classified Unnumbered                        NaN   \n",
       "\n",
       "          Form of Way  Length (km) Trunk Road Highway Authority Code   \n",
       "0  Single Carriageway     2.209182      false              S12000030  \\\n",
       "3  Single Carriageway     0.656623      false              S12000030   \n",
       "4  Single Carriageway     0.614588      false              S12000030   \n",
       "5  Single Carriageway     1.174929      false              S12000030   \n",
       "6  Single Carriageway     1.204896      false              S12000030   \n",
       "\n",
       "  Highway Authority Name  Speed Limit (mph) Speed Limit Evidence date  ...   \n",
       "0               Stirling                 60                       NaN  ...  \\\n",
       "3               Stirling                 60                       NaN  ...   \n",
       "4               Stirling                 30                       NaN  ...   \n",
       "5               Stirling                 60                       NaN  ...   \n",
       "6               Stirling                 60                       NaN  ...   \n",
       "\n",
       "  Number over Limit Number over ACPO Number over 15 Above roadwidth_average   \n",
       "0               NaN              NaN                  NaN               5.2  \\\n",
       "3               NaN              NaN                  NaN               4.0   \n",
       "4               NaN              NaN                  NaN               5.0   \n",
       "5               NaN              NaN                  NaN               4.4   \n",
       "6               NaN              NaN                  NaN               5.8   \n",
       "\n",
       "   roadwidth_minimum                                           geometry   \n",
       "0                NaN  MULTILINESTRING ((264275.866 734983.274, 26433...  \\\n",
       "3                3.2  MULTILINESTRING ((261274.037 707315.032, 26127...   \n",
       "4                4.1  MULTILINESTRING ((255564.000 716216.000, 25558...   \n",
       "5                3.1  MULTILINESTRING ((258317.000 732240.000, 25829...   \n",
       "6                4.0  MULTILINESTRING ((259323.217 733055.412, 25933...   \n",
       "\n",
       "                               geometry_intersection  length_total   \n",
       "0  MULTILINESTRING ((264275.866 734983.274, 26433...   2209.182012  \\\n",
       "3  MULTILINESTRING ((261274.037 707315.032, 26127...    656.622934   \n",
       "4  MULTILINESTRING ((255564.000 716216.000, 25558...    614.587727   \n",
       "5  MULTILINESTRING ((258317.000 732240.000, 25829...   1174.929448   \n",
       "6  MULTILINESTRING ((259323.217 733055.412, 25933...   1204.895873   \n",
       "\n",
       "   length_in_buffer  percent_in_buffer  \n",
       "0       2209.182012                1.0  \n",
       "3        656.622934                1.0  \n",
       "4        614.587727                1.0  \n",
       "5       1174.929448                1.0  \n",
       "6       1204.895873                1.0  \n",
       "\n",
       "[5 rows x 151 columns]"
      ]
     },
     "execution_count": 17,
     "metadata": {},
     "output_type": "execute_result"
    }
   ],
   "source": [
    "agilysis_selected.head()"
   ]
  },
  {
   "cell_type": "code",
   "execution_count": null,
   "id": "c6fb763d-9e55-41f8-a2d0-92359d853efe",
   "metadata": {},
   "outputs": [],
   "source": []
  },
  {
   "cell_type": "code",
   "execution_count": 18,
   "id": "3ad9cd64-bf29-44c6-9141-b3da50914f1b",
   "metadata": {},
   "outputs": [
    {
     "name": "stdout",
     "output_type": "stream",
     "text": [
      "Number of Agilysis routes is 21841, among them 10478 have more than 90% of length in NCN 10m buffer.\n"
     ]
    }
   ],
   "source": [
    "print(f\"Number of Agilysis routes is {len(agilysis)}, among them {len(agilysis_selected)} have more than 90% of length in NCN 10m buffer.\")\n"
   ]
  },
  {
   "cell_type": "markdown",
   "id": "e42cd63d-43ac-4b50-93b3-d916ebab3c5f",
   "metadata": {},
   "source": [
    "## 10,478 routes have more than 90% of length within NCN 10m buffer among 21,841 routes."
   ]
  },
  {
   "cell_type": "markdown",
   "id": "3834abb0-f35e-4b38-9654-a5a1dbd72c3c",
   "metadata": {},
   "source": [
    "_While Des' result is 10,819 routes. 341 gap_"
   ]
  },
  {
   "cell_type": "code",
   "execution_count": 19,
   "id": "0557df2e-9831-4cab-b072-14165631ff1e",
   "metadata": {},
   "outputs": [],
   "source": [
    "# Export the dataset preventing rerun it again which is time costing\n",
    "agilysis_selected_clean = agilysis_selected.drop(columns=['geometry_intersection'])\n",
    "\n",
    "\n",
    "agilysis_selected_clean.to_file(\"agilysis_90pct_within_buffer.gpkg\", driver=\"GPKG\", layer=\"agilysis_lines\")\n"
   ]
  },
  {
   "cell_type": "markdown",
   "id": "db2819cc-82d0-4fae-a537-a13bc3950bd0",
   "metadata": {},
   "source": [
    "# Assessment"
   ]
  },
  {
   "cell_type": "markdown",
   "id": "3c4915fa-052b-4c0f-90c3-38c11fc9340d",
   "metadata": {},
   "source": [
    "### Further understand the dateset\n",
    "1. If the speed data is fully modelled (i.e. no ‘field survey’ for any of the 6 key time intervals).  Condition: Count_of_not_modelled = 0 \n",
    "2. If the speed data contains no 85th percentile speed for the 6 key time intervals.  Condition: Count_of_85th_speed = 0 \n",
    "3. If the speed data contains no 85th percentile all day speed.  Condition: IsEmpty(F85th__ile_Speed___All_Day) \n",
    "4. If there is no volume data. Condition: IsEmpty(Modelled_AADT_Band) "
   ]
  },
  {
   "cell_type": "code",
   "execution_count": 144,
   "id": "f2367eea-4dbe-4f57-920a-ce93c80a4a16",
   "metadata": {},
   "outputs": [],
   "source": [
    "# Read a theh file we just exported obove\n",
    "quietway_assessment = gpd.read_file(\"agilysis_90pct_within_buffer.gpkg\", layer=\"agilysis_lines\")"
   ]
  },
  {
   "cell_type": "markdown",
   "id": "02fe563e-e7b6-4020-b1c2-37ff9543c048",
   "metadata": {},
   "source": [
    "Check if routes' survey condition with values in 'Field Survey':  \n",
    "'averagespeed_mf7to9capturemethod',\n",
    " 'averagespeed_mf9to12capturemethod',\n",
    " 'averagespeed_mf12to14capturemethod',\n",
    " 'averagespeed_mf14to16capturemethod',\n",
    " 'averagespeed_mf16to19capturemethod',\n",
    " 'averagespeed_mf19to22capturemethod',"
   ]
  },
  {
   "cell_type": "code",
   "execution_count": 145,
   "id": "9af6c1f7-d2b8-48d5-aa93-2d0dbd9df7b7",
   "metadata": {},
   "outputs": [],
   "source": [
    "# Define the 6 fields to check\n",
    "fields_to_check = [\n",
    "    'averagespeed_mf7to9capturemethod',\n",
    "    'averagespeed_mf9to12capturemethod',\n",
    "    'averagespeed_mf12to14capturemethod',\n",
    "    'averagespeed_mf14to16capturemethod',\n",
    "    'averagespeed_mf16to19capturemethod',\n",
    "    'averagespeed_mf19to22capturemethod',\n",
    "]\n",
    "\n",
    "# Create the new field with conditional logic\n",
    "def classify_survey(row):\n",
    "    count = (row[fields_to_check] == 'Field Survey').sum()\n",
    "    if count == 0:\n",
    "        return None\n",
    "    elif count < 6:\n",
    "        return 'partially surveyed'\n",
    "    else:\n",
    "        return 'fully surveyed'\n",
    "\n",
    "quietway_assessment['survey_flag'] = quietway_assessment.apply(classify_survey, axis=1)\n"
   ]
  },
  {
   "cell_type": "code",
   "execution_count": 146,
   "id": "24bccb86-ca65-4bc9-9895-abfb6f329d49",
   "metadata": {},
   "outputs": [
    {
     "data": {
      "text/plain": [
       "0        partially surveyed\n",
       "1        partially surveyed\n",
       "2        partially surveyed\n",
       "3        partially surveyed\n",
       "4        partially surveyed\n",
       "                ...        \n",
       "10473                  None\n",
       "10474                  None\n",
       "10475                  None\n",
       "10476                  None\n",
       "10477                  None\n",
       "Name: survey_flag, Length: 10478, dtype: object"
      ]
     },
     "execution_count": 146,
     "metadata": {},
     "output_type": "execute_result"
    }
   ],
   "source": [
    "quietway_assessment['survey_flag']"
   ]
  },
  {
   "cell_type": "markdown",
   "id": "22d21947-1af5-4c17-8b70-d381cbf13c37",
   "metadata": {},
   "source": [
    "### Check if 85th %ile is null, when it is not fully surveyed"
   ]
  },
  {
   "cell_type": "code",
   "execution_count": 147,
   "id": "304db314-b5ed-4c81-931e-90b882887cb7",
   "metadata": {
    "scrolled": true
   },
   "outputs": [
    {
     "data": {
      "text/plain": [
       "survey_flag\n",
       "fully surveyed        7290\n",
       "partially surveyed    2744\n",
       "None                   444\n",
       "Name: count, dtype: int64"
      ]
     },
     "execution_count": 147,
     "metadata": {},
     "output_type": "execute_result"
    }
   ],
   "source": [
    "quietway_assessment['survey_flag'].value_counts(dropna=False)\n"
   ]
  },
  {
   "cell_type": "code",
   "execution_count": 148,
   "id": "b8e494dd-36c8-4eac-8f0e-5a3c7bdf278e",
   "metadata": {},
   "outputs": [],
   "source": [
    "# To explore the relationship between fields\n",
    "# null_survey = quietway_assessment[quietway_assessment['survey_flag'].isnull()]\n",
    "# len(null_survey)\n",
    "\n",
    "# null_survey['85th %ile Speed Mon to Fri - 09:00 to 12:00'].isnull().sum()\n",
    "\n",
    "# partial_survey = quietway_assessment[quietway_assessment['survey_flag'] == 'partially surveyed']\n",
    "# partial_survey['85th %ile Speed Mon to Fri - 09:00 to 12:00'].isnull().sum()\n",
    "\n",
    "# Presumably, when it is partially surveyed, there will be 85th %ile for some fields when the average speed was surveyed.\n",
    "\n",
    "# quietway_assessment['averagespeed_mf9to12capturemethod'].isnull().sum()\n",
    "\n",
    "# quietway_assessment['85th %ile Speed Mon to Fri - 09:00 to 12:00'].isnull().sum()\n",
    "\n",
    "# null_survey['Modelled AADT'].isnull().sum()\n",
    "\n",
    "# quietway_assessment['Modelled AADT B'].isnull().sum()"
   ]
  },
  {
   "cell_type": "code",
   "execution_count": 149,
   "id": "fedffe07-1072-481a-81c0-0131c39b6ab4",
   "metadata": {},
   "outputs": [],
   "source": [
    "# Read the settlement data\n",
    "settlement = gpd.read_file(settlement_path)"
   ]
  },
  {
   "cell_type": "code",
   "execution_count": 150,
   "id": "1176f8a4-56e5-4e3b-9d6c-07776181d544",
   "metadata": {
    "scrolled": true
   },
   "outputs": [
    {
     "data": {
      "text/plain": [
       "<Projected CRS: EPSG:27700>\n",
       "Name: OSGB36 / British National Grid\n",
       "Axis Info [cartesian]:\n",
       "- E[east]: Easting (metre)\n",
       "- N[north]: Northing (metre)\n",
       "Area of Use:\n",
       "- name: United Kingdom (UK) - offshore to boundary of UKCS within 49°45'N to 61°N and 9°W to 2°E; onshore Great Britain (England, Wales and Scotland). Isle of Man onshore.\n",
       "- bounds: (-9.01, 49.75, 2.01, 61.01)\n",
       "Coordinate Operation:\n",
       "- name: British National Grid\n",
       "- method: Transverse Mercator\n",
       "Datum: Ordnance Survey of Great Britain 1936\n",
       "- Ellipsoid: Airy 1830\n",
       "- Prime Meridian: Greenwich"
      ]
     },
     "execution_count": 150,
     "metadata": {},
     "output_type": "execute_result"
    }
   ],
   "source": [
    "# Check the crs\n",
    "settlement.crs"
   ]
  },
  {
   "cell_type": "markdown",
   "id": "4f6fceaf-50c4-483d-84a8-43e8978b91ae",
   "metadata": {},
   "source": [
    "## Start assessment    \n",
    "1. Get rid of routes when **'85th %ile Speed - All Day', 'Modelled AADT'** are null."
   ]
  },
  {
   "cell_type": "code",
   "execution_count": 151,
   "id": "5b629477-45c0-423f-a547-081b910f21e8",
   "metadata": {},
   "outputs": [],
   "source": [
    "# Filter out rows with nulls in either of the two key fields for allocating quiet values\n",
    "quietway_assessment_intersect = quietway_assessment.dropna(subset=['85th %ile Speed - All Day', 'Modelled AADT'])\n"
   ]
  },
  {
   "cell_type": "code",
   "execution_count": 152,
   "id": "ac8af1f1-19d5-4e55-a7e5-f8a03dd6d0dc",
   "metadata": {},
   "outputs": [
    {
     "name": "stderr",
     "output_type": "stream",
     "text": [
      "/Users/hucongying/mambaforge/lib/python3.10/site-packages/pygeos/predicates.py:764: RuntimeWarning: invalid value encountered in intersects\n",
      "  return lib.intersects(a, b, **kwargs)\n"
     ]
    }
   ],
   "source": [
    "#Flag whether the feature intersects with settlement boundaries\n",
    "quietway_assessment_intersect = quietway_assessment_intersect.copy()\n",
    "quietway_assessment_intersect['within_settlement'] = quietway_assessment_intersect.geometry.intersects(settlement.unary_union)\n",
    "\n"
   ]
  },
  {
   "cell_type": "code",
   "execution_count": 153,
   "id": "0b5c5ea9-fdbf-4b75-b027-0944568b262a",
   "metadata": {},
   "outputs": [
    {
     "data": {
      "text/plain": [
       "9807"
      ]
     },
     "execution_count": 153,
     "metadata": {},
     "output_type": "execute_result"
    }
   ],
   "source": [
    "len(quietway_assessment_intersect)"
   ]
  },
  {
   "cell_type": "code",
   "execution_count": 154,
   "id": "e84e4abf-5fd9-478e-acaf-5c85172e831d",
   "metadata": {},
   "outputs": [
    {
     "data": {
      "text/plain": [
       "6051"
      ]
     },
     "execution_count": 154,
     "metadata": {},
     "output_type": "execute_result"
    }
   ],
   "source": [
    "quietway_assessment_intersect['within_settlement'].sum()"
   ]
  },
  {
   "cell_type": "markdown",
   "id": "dbfbe9b6-fe17-4281-8b0f-1a9b7bc86942",
   "metadata": {},
   "source": [
    "## 6,051 routes are intersected with settlements \n",
    "among 9,807 routes have values in both **'85th %ile Speed - All Day', 'Modelled AADT'**"
   ]
  },
  {
   "cell_type": "markdown",
   "id": "d03bce70-494b-49ad-ad2f-66d64c32f95d",
   "metadata": {},
   "source": [
    "_While Des' result is 6,759 intersected with settlements._ 708 gap"
   ]
  },
  {
   "cell_type": "code",
   "execution_count": 155,
   "id": "f9735a35-067f-4564-b599-70757c33ad45",
   "metadata": {},
   "outputs": [
    {
     "data": {
      "text/html": [
       "<div>\n",
       "<style scoped>\n",
       "    .dataframe tbody tr th:only-of-type {\n",
       "        vertical-align: middle;\n",
       "    }\n",
       "\n",
       "    .dataframe tbody tr th {\n",
       "        vertical-align: top;\n",
       "    }\n",
       "\n",
       "    .dataframe thead th {\n",
       "        text-align: right;\n",
       "    }\n",
       "</style>\n",
       "<table border=\"1\" class=\"dataframe\">\n",
       "  <thead>\n",
       "    <tr style=\"text-align: right;\">\n",
       "      <th></th>\n",
       "      <th>OS Link ID</th>\n",
       "      <th>Road Classification</th>\n",
       "      <th>Road Classification Number</th>\n",
       "      <th>Form of Way</th>\n",
       "      <th>Length (km)</th>\n",
       "      <th>Trunk Road</th>\n",
       "      <th>Highway Authority Code</th>\n",
       "      <th>Highway Authority Name</th>\n",
       "      <th>Speed Limit (mph)</th>\n",
       "      <th>Speed Limit Evidence date</th>\n",
       "      <th>...</th>\n",
       "      <th>Number over ACPO</th>\n",
       "      <th>Number over 15 Above</th>\n",
       "      <th>roadwidth_average</th>\n",
       "      <th>roadwidth_minimum</th>\n",
       "      <th>length_total</th>\n",
       "      <th>length_in_buffer</th>\n",
       "      <th>percent_in_buffer</th>\n",
       "      <th>geometry</th>\n",
       "      <th>survey_flag</th>\n",
       "      <th>within_settlement</th>\n",
       "    </tr>\n",
       "  </thead>\n",
       "  <tbody>\n",
       "    <tr>\n",
       "      <th>0</th>\n",
       "      <td>osgb4000000004292146</td>\n",
       "      <td>Classified Unnumbered</td>\n",
       "      <td>NaN</td>\n",
       "      <td>Single Carriageway</td>\n",
       "      <td>2.209182</td>\n",
       "      <td>false</td>\n",
       "      <td>S12000030</td>\n",
       "      <td>Stirling</td>\n",
       "      <td>60</td>\n",
       "      <td>NaN</td>\n",
       "      <td>...</td>\n",
       "      <td>NaN</td>\n",
       "      <td>NaN</td>\n",
       "      <td>5.2</td>\n",
       "      <td>NaN</td>\n",
       "      <td>2209.182012</td>\n",
       "      <td>2209.182012</td>\n",
       "      <td>1.0</td>\n",
       "      <td>MULTILINESTRING ((264275.866 734983.274, 26433...</td>\n",
       "      <td>partially surveyed</td>\n",
       "      <td>False</td>\n",
       "    </tr>\n",
       "    <tr>\n",
       "      <th>1</th>\n",
       "      <td>osgb4000000004292724</td>\n",
       "      <td>Classified Unnumbered</td>\n",
       "      <td>NaN</td>\n",
       "      <td>Single Carriageway</td>\n",
       "      <td>0.656623</td>\n",
       "      <td>false</td>\n",
       "      <td>S12000030</td>\n",
       "      <td>Stirling</td>\n",
       "      <td>60</td>\n",
       "      <td>NaN</td>\n",
       "      <td>...</td>\n",
       "      <td>NaN</td>\n",
       "      <td>NaN</td>\n",
       "      <td>4.0</td>\n",
       "      <td>3.2</td>\n",
       "      <td>656.622934</td>\n",
       "      <td>656.622934</td>\n",
       "      <td>1.0</td>\n",
       "      <td>MULTILINESTRING ((261274.037 707315.032, 26127...</td>\n",
       "      <td>partially surveyed</td>\n",
       "      <td>False</td>\n",
       "    </tr>\n",
       "    <tr>\n",
       "      <th>2</th>\n",
       "      <td>osgb4000000004292780</td>\n",
       "      <td>Unknown</td>\n",
       "      <td>NaN</td>\n",
       "      <td>Single Carriageway</td>\n",
       "      <td>0.614588</td>\n",
       "      <td>false</td>\n",
       "      <td>S12000030</td>\n",
       "      <td>Stirling</td>\n",
       "      <td>30</td>\n",
       "      <td>NaN</td>\n",
       "      <td>...</td>\n",
       "      <td>NaN</td>\n",
       "      <td>NaN</td>\n",
       "      <td>5.0</td>\n",
       "      <td>4.1</td>\n",
       "      <td>614.587727</td>\n",
       "      <td>614.587727</td>\n",
       "      <td>1.0</td>\n",
       "      <td>MULTILINESTRING ((255564.000 716216.000, 25558...</td>\n",
       "      <td>partially surveyed</td>\n",
       "      <td>False</td>\n",
       "    </tr>\n",
       "    <tr>\n",
       "      <th>3</th>\n",
       "      <td>osgb4000000004293117</td>\n",
       "      <td>Classified Unnumbered</td>\n",
       "      <td>NaN</td>\n",
       "      <td>Single Carriageway</td>\n",
       "      <td>1.174929</td>\n",
       "      <td>false</td>\n",
       "      <td>S12000030</td>\n",
       "      <td>Stirling</td>\n",
       "      <td>60</td>\n",
       "      <td>NaN</td>\n",
       "      <td>...</td>\n",
       "      <td>NaN</td>\n",
       "      <td>NaN</td>\n",
       "      <td>4.4</td>\n",
       "      <td>3.1</td>\n",
       "      <td>1174.929448</td>\n",
       "      <td>1174.929448</td>\n",
       "      <td>1.0</td>\n",
       "      <td>MULTILINESTRING ((258317.000 732240.000, 25829...</td>\n",
       "      <td>partially surveyed</td>\n",
       "      <td>False</td>\n",
       "    </tr>\n",
       "    <tr>\n",
       "      <th>4</th>\n",
       "      <td>osgb4000000004293123</td>\n",
       "      <td>Classified Unnumbered</td>\n",
       "      <td>NaN</td>\n",
       "      <td>Single Carriageway</td>\n",
       "      <td>1.204896</td>\n",
       "      <td>false</td>\n",
       "      <td>S12000030</td>\n",
       "      <td>Stirling</td>\n",
       "      <td>60</td>\n",
       "      <td>NaN</td>\n",
       "      <td>...</td>\n",
       "      <td>NaN</td>\n",
       "      <td>NaN</td>\n",
       "      <td>5.8</td>\n",
       "      <td>4.0</td>\n",
       "      <td>1204.895873</td>\n",
       "      <td>1204.895873</td>\n",
       "      <td>1.0</td>\n",
       "      <td>MULTILINESTRING ((259323.217 733055.412, 25933...</td>\n",
       "      <td>partially surveyed</td>\n",
       "      <td>False</td>\n",
       "    </tr>\n",
       "  </tbody>\n",
       "</table>\n",
       "<p>5 rows × 152 columns</p>\n",
       "</div>"
      ],
      "text/plain": [
       "             OS Link ID    Road Classification Road Classification Number   \n",
       "0  osgb4000000004292146  Classified Unnumbered                        NaN  \\\n",
       "1  osgb4000000004292724  Classified Unnumbered                        NaN   \n",
       "2  osgb4000000004292780                Unknown                        NaN   \n",
       "3  osgb4000000004293117  Classified Unnumbered                        NaN   \n",
       "4  osgb4000000004293123  Classified Unnumbered                        NaN   \n",
       "\n",
       "          Form of Way  Length (km) Trunk Road Highway Authority Code   \n",
       "0  Single Carriageway     2.209182      false              S12000030  \\\n",
       "1  Single Carriageway     0.656623      false              S12000030   \n",
       "2  Single Carriageway     0.614588      false              S12000030   \n",
       "3  Single Carriageway     1.174929      false              S12000030   \n",
       "4  Single Carriageway     1.204896      false              S12000030   \n",
       "\n",
       "  Highway Authority Name  Speed Limit (mph) Speed Limit Evidence date  ...   \n",
       "0               Stirling                 60                       NaN  ...  \\\n",
       "1               Stirling                 60                       NaN  ...   \n",
       "2               Stirling                 30                       NaN  ...   \n",
       "3               Stirling                 60                       NaN  ...   \n",
       "4               Stirling                 60                       NaN  ...   \n",
       "\n",
       "  Number over ACPO Number over 15 Above roadwidth_average roadwidth_minimum   \n",
       "0              NaN                  NaN               5.2               NaN  \\\n",
       "1              NaN                  NaN               4.0               3.2   \n",
       "2              NaN                  NaN               5.0               4.1   \n",
       "3              NaN                  NaN               4.4               3.1   \n",
       "4              NaN                  NaN               5.8               4.0   \n",
       "\n",
       "   length_total  length_in_buffer  percent_in_buffer   \n",
       "0   2209.182012       2209.182012                1.0  \\\n",
       "1    656.622934        656.622934                1.0   \n",
       "2    614.587727        614.587727                1.0   \n",
       "3   1174.929448       1174.929448                1.0   \n",
       "4   1204.895873       1204.895873                1.0   \n",
       "\n",
       "                                            geometry         survey_flag   \n",
       "0  MULTILINESTRING ((264275.866 734983.274, 26433...  partially surveyed  \\\n",
       "1  MULTILINESTRING ((261274.037 707315.032, 26127...  partially surveyed   \n",
       "2  MULTILINESTRING ((255564.000 716216.000, 25558...  partially surveyed   \n",
       "3  MULTILINESTRING ((258317.000 732240.000, 25829...  partially surveyed   \n",
       "4  MULTILINESTRING ((259323.217 733055.412, 25933...  partially surveyed   \n",
       "\n",
       "   within_settlement  \n",
       "0              False  \n",
       "1              False  \n",
       "2              False  \n",
       "3              False  \n",
       "4              False  \n",
       "\n",
       "[5 rows x 152 columns]"
      ]
     },
     "execution_count": 155,
     "metadata": {},
     "output_type": "execute_result"
    }
   ],
   "source": [
    "quietway_assessment_intersect.head()"
   ]
  },
  {
   "cell_type": "code",
   "execution_count": 156,
   "id": "9a538989-2945-45cb-b846-339acdde9129",
   "metadata": {},
   "outputs": [],
   "source": [
    "def classify_speed(speed):\n",
    "    if speed < 20:\n",
    "        return \"<20\"\n",
    "    elif speed < 30:\n",
    "        return \"20-30\"\n",
    "    elif speed < 40:\n",
    "        return \"30-40\"\n",
    "    else:\n",
    "        return \">40\"\n",
    "\n",
    "def classify_aadt(aadt):\n",
    "    if aadt < 500:\n",
    "        return \"<500\"\n",
    "    elif aadt < 1000:\n",
    "        return \"500-1000\"\n",
    "    elif aadt < 2000:\n",
    "        return \"1000-2000\"\n",
    "    elif aadt < 4000:\n",
    "        return \"2000-4000\"\n",
    "    elif aadt < 10000:\n",
    "        return \"4000-10000\"\n",
    "    else:\n",
    "        return \">10000\"\n"
   ]
  },
  {
   "cell_type": "code",
   "execution_count": 157,
   "id": "a955ce3f-2c0d-4500-a882-9cfb9682f202",
   "metadata": {},
   "outputs": [],
   "source": [
    "matrix_outwith = {\n",
    "    \"<500\": {\"<20\": \"Definitely Quietway\", \"20-30\": \"Definitely Quietway\", \"30-40\": \"Likely Quietway\", \">40\": \"Make Quietway\"},\n",
    "    \"500-1000\": {\"<20\": \"Definitely Quietway\", \"20-30\": \"Likely Quietway\", \"30-40\": \"Likely Quietway\", \">40\": \"Make Quietway\"},\n",
    "    \"1000-2000\": {\"<20\": \"Make Quietway\", \"20-30\": \"Make Quietway\", \"30-40\": \"Make Quietway\", \">40\": \"Make Quietway\"},\n",
    "    \"2000-4000\": {\"<20\": \"Make Quietway\", \"20-30\": \"Make Quietway\", \"30-40\": \"Make Quietway\", \">40\": \"Make Traffic Free\"},\n",
    "    \"4000-10000\": {\"<20\": \"Make Traffic Free\", \"20-30\": \"Make Traffic Free\", \"30-40\": \"Make Traffic Free\", \">40\": \"Make Traffic Free\"},\n",
    "    \">10000\": {\"<20\": \"Make Traffic Free\", \"20-30\": \"Make Traffic Free\", \"30-40\": \"Make Traffic Free\", \">40\": \"Make Traffic Free\"}\n",
    "}\n",
    "\n",
    "matrix_within = {\n",
    "    \"<500\": {\"<20\": \"Definitely Quietway\", \"20-30\": \"Make Quietway\", \"30-40\": \"Make Quietway\", \">40\": \"Make Traffic Free\"},\n",
    "    \"500-1000\": {\"<20\": \"Definitely Quietway\", \"20-30\": \"Make Quietway\", \"30-40\": \"Make Quietway\", \">40\": \"Make Traffic Free\"},\n",
    "    \"1000-2000\": {\"<20\": \"Likely Quietway\", \"20-30\": \"Make Quietway\", \"30-40\": \"Make Quietway\", \">40\": \"Make Traffic Free\"},\n",
    "    \"2000-4000\": {\"<20\": \"Make Quietway\", \"20-30\": \"Make Quietway\", \"30-40\": \"Make Traffic Free\", \">40\": \"Make Traffic Free\"},\n",
    "    \"4000-10000\": {\"<20\": \"Make Quietway\", \"20-30\": \"Make Traffic Free\", \"30-40\": \"Make Traffic Free\", \">40\": \"Make Traffic Free\"},\n",
    "    \">10000\": {\"<20\": \"Make Traffic Free\", \"20-30\": \"Make Traffic Free\", \"30-40\": \"Make Traffic Free\", \">40\": \"Make Traffic Free\"}\n",
    "}\n"
   ]
  },
  {
   "cell_type": "code",
   "execution_count": 158,
   "id": "51a754a1-faa9-475f-8545-e05d1c8e9e2c",
   "metadata": {},
   "outputs": [],
   "source": [
    "def assign_quietway(row):\n",
    "    try:\n",
    "        aadt_cat = classify_aadt(row['Modelled AADT'])\n",
    "        speed_cat = classify_speed(row['85th %ile Speed - All Day'])\n",
    "\n",
    "        if pd.isna(aadt_cat) or pd.isna(speed_cat):\n",
    "            return None  # if either value is missing\n",
    "\n",
    "        if row['within_settlement']:\n",
    "            return matrix_within.get(aadt_cat, {}).get(speed_cat, None)\n",
    "        else:\n",
    "            return matrix_outwith.get(aadt_cat, {}).get(speed_cat, None)\n",
    "    except:\n",
    "        return None\n",
    "\n"
   ]
  },
  {
   "cell_type": "code",
   "execution_count": 159,
   "id": "fb677f23-74f6-4bba-81e0-a140bc5ebf2a",
   "metadata": {},
   "outputs": [],
   "source": [
    "quietway_assessment_intersect['propensity_for_quietway'] = quietway_assessment_intersect.apply(assign_quietway, axis=1)\n"
   ]
  },
  {
   "cell_type": "code",
   "execution_count": 160,
   "id": "c84cabeb-2c5e-4782-9bbd-e533a9d4abfe",
   "metadata": {},
   "outputs": [
    {
     "data": {
      "text/plain": [
       "propensity_for_quietway\n",
       "Make Quietway          4282\n",
       "Definitely Quietway    2151\n",
       "Make Traffic Free      1953\n",
       "Likely Quietway        1421\n",
       "Name: count, dtype: int64"
      ]
     },
     "execution_count": 160,
     "metadata": {},
     "output_type": "execute_result"
    }
   ],
   "source": [
    "\n",
    "quietway_assessment_intersect['propensity_for_quietway'].value_counts(dropna=False)\n"
   ]
  },
  {
   "cell_type": "code",
   "execution_count": 161,
   "id": "3be78943-1f5b-4a1c-acd7-d20f1296e135",
   "metadata": {},
   "outputs": [
    {
     "data": {
      "text/html": [
       "<div>\n",
       "<style scoped>\n",
       "    .dataframe tbody tr th:only-of-type {\n",
       "        vertical-align: middle;\n",
       "    }\n",
       "\n",
       "    .dataframe tbody tr th {\n",
       "        vertical-align: top;\n",
       "    }\n",
       "\n",
       "    .dataframe thead th {\n",
       "        text-align: right;\n",
       "    }\n",
       "</style>\n",
       "<table border=\"1\" class=\"dataframe\">\n",
       "  <thead>\n",
       "    <tr style=\"text-align: right;\">\n",
       "      <th></th>\n",
       "      <th>OS Link ID</th>\n",
       "      <th>Road Classification</th>\n",
       "      <th>Road Classification Number</th>\n",
       "      <th>Form of Way</th>\n",
       "      <th>Length (km)</th>\n",
       "      <th>Trunk Road</th>\n",
       "      <th>Highway Authority Code</th>\n",
       "      <th>Highway Authority Name</th>\n",
       "      <th>Speed Limit (mph)</th>\n",
       "      <th>Speed Limit Evidence date</th>\n",
       "      <th>...</th>\n",
       "      <th>Number over 15 Above</th>\n",
       "      <th>roadwidth_average</th>\n",
       "      <th>roadwidth_minimum</th>\n",
       "      <th>length_total</th>\n",
       "      <th>length_in_buffer</th>\n",
       "      <th>percent_in_buffer</th>\n",
       "      <th>geometry</th>\n",
       "      <th>survey_flag</th>\n",
       "      <th>within_settlement</th>\n",
       "      <th>propensity_for_quietway</th>\n",
       "    </tr>\n",
       "  </thead>\n",
       "  <tbody>\n",
       "    <tr>\n",
       "      <th>0</th>\n",
       "      <td>osgb4000000004292146</td>\n",
       "      <td>Classified Unnumbered</td>\n",
       "      <td>NaN</td>\n",
       "      <td>Single Carriageway</td>\n",
       "      <td>2.209182</td>\n",
       "      <td>false</td>\n",
       "      <td>S12000030</td>\n",
       "      <td>Stirling</td>\n",
       "      <td>60</td>\n",
       "      <td>NaN</td>\n",
       "      <td>...</td>\n",
       "      <td>NaN</td>\n",
       "      <td>5.2</td>\n",
       "      <td>NaN</td>\n",
       "      <td>2209.182012</td>\n",
       "      <td>2209.182012</td>\n",
       "      <td>1.0</td>\n",
       "      <td>MULTILINESTRING ((264275.866 734983.274, 26433...</td>\n",
       "      <td>partially surveyed</td>\n",
       "      <td>False</td>\n",
       "      <td>Likely Quietway</td>\n",
       "    </tr>\n",
       "    <tr>\n",
       "      <th>1</th>\n",
       "      <td>osgb4000000004292724</td>\n",
       "      <td>Classified Unnumbered</td>\n",
       "      <td>NaN</td>\n",
       "      <td>Single Carriageway</td>\n",
       "      <td>0.656623</td>\n",
       "      <td>false</td>\n",
       "      <td>S12000030</td>\n",
       "      <td>Stirling</td>\n",
       "      <td>60</td>\n",
       "      <td>NaN</td>\n",
       "      <td>...</td>\n",
       "      <td>NaN</td>\n",
       "      <td>4.0</td>\n",
       "      <td>3.2</td>\n",
       "      <td>656.622934</td>\n",
       "      <td>656.622934</td>\n",
       "      <td>1.0</td>\n",
       "      <td>MULTILINESTRING ((261274.037 707315.032, 26127...</td>\n",
       "      <td>partially surveyed</td>\n",
       "      <td>False</td>\n",
       "      <td>Definitely Quietway</td>\n",
       "    </tr>\n",
       "    <tr>\n",
       "      <th>2</th>\n",
       "      <td>osgb4000000004292780</td>\n",
       "      <td>Unknown</td>\n",
       "      <td>NaN</td>\n",
       "      <td>Single Carriageway</td>\n",
       "      <td>0.614588</td>\n",
       "      <td>false</td>\n",
       "      <td>S12000030</td>\n",
       "      <td>Stirling</td>\n",
       "      <td>30</td>\n",
       "      <td>NaN</td>\n",
       "      <td>...</td>\n",
       "      <td>NaN</td>\n",
       "      <td>5.0</td>\n",
       "      <td>4.1</td>\n",
       "      <td>614.587727</td>\n",
       "      <td>614.587727</td>\n",
       "      <td>1.0</td>\n",
       "      <td>MULTILINESTRING ((255564.000 716216.000, 25558...</td>\n",
       "      <td>partially surveyed</td>\n",
       "      <td>False</td>\n",
       "      <td>Definitely Quietway</td>\n",
       "    </tr>\n",
       "    <tr>\n",
       "      <th>3</th>\n",
       "      <td>osgb4000000004293117</td>\n",
       "      <td>Classified Unnumbered</td>\n",
       "      <td>NaN</td>\n",
       "      <td>Single Carriageway</td>\n",
       "      <td>1.174929</td>\n",
       "      <td>false</td>\n",
       "      <td>S12000030</td>\n",
       "      <td>Stirling</td>\n",
       "      <td>60</td>\n",
       "      <td>NaN</td>\n",
       "      <td>...</td>\n",
       "      <td>NaN</td>\n",
       "      <td>4.4</td>\n",
       "      <td>3.1</td>\n",
       "      <td>1174.929448</td>\n",
       "      <td>1174.929448</td>\n",
       "      <td>1.0</td>\n",
       "      <td>MULTILINESTRING ((258317.000 732240.000, 25829...</td>\n",
       "      <td>partially surveyed</td>\n",
       "      <td>False</td>\n",
       "      <td>Likely Quietway</td>\n",
       "    </tr>\n",
       "    <tr>\n",
       "      <th>4</th>\n",
       "      <td>osgb4000000004293123</td>\n",
       "      <td>Classified Unnumbered</td>\n",
       "      <td>NaN</td>\n",
       "      <td>Single Carriageway</td>\n",
       "      <td>1.204896</td>\n",
       "      <td>false</td>\n",
       "      <td>S12000030</td>\n",
       "      <td>Stirling</td>\n",
       "      <td>60</td>\n",
       "      <td>NaN</td>\n",
       "      <td>...</td>\n",
       "      <td>NaN</td>\n",
       "      <td>5.8</td>\n",
       "      <td>4.0</td>\n",
       "      <td>1204.895873</td>\n",
       "      <td>1204.895873</td>\n",
       "      <td>1.0</td>\n",
       "      <td>MULTILINESTRING ((259323.217 733055.412, 25933...</td>\n",
       "      <td>partially surveyed</td>\n",
       "      <td>False</td>\n",
       "      <td>Definitely Quietway</td>\n",
       "    </tr>\n",
       "  </tbody>\n",
       "</table>\n",
       "<p>5 rows × 153 columns</p>\n",
       "</div>"
      ],
      "text/plain": [
       "             OS Link ID    Road Classification Road Classification Number   \n",
       "0  osgb4000000004292146  Classified Unnumbered                        NaN  \\\n",
       "1  osgb4000000004292724  Classified Unnumbered                        NaN   \n",
       "2  osgb4000000004292780                Unknown                        NaN   \n",
       "3  osgb4000000004293117  Classified Unnumbered                        NaN   \n",
       "4  osgb4000000004293123  Classified Unnumbered                        NaN   \n",
       "\n",
       "          Form of Way  Length (km) Trunk Road Highway Authority Code   \n",
       "0  Single Carriageway     2.209182      false              S12000030  \\\n",
       "1  Single Carriageway     0.656623      false              S12000030   \n",
       "2  Single Carriageway     0.614588      false              S12000030   \n",
       "3  Single Carriageway     1.174929      false              S12000030   \n",
       "4  Single Carriageway     1.204896      false              S12000030   \n",
       "\n",
       "  Highway Authority Name  Speed Limit (mph) Speed Limit Evidence date  ...   \n",
       "0               Stirling                 60                       NaN  ...  \\\n",
       "1               Stirling                 60                       NaN  ...   \n",
       "2               Stirling                 30                       NaN  ...   \n",
       "3               Stirling                 60                       NaN  ...   \n",
       "4               Stirling                 60                       NaN  ...   \n",
       "\n",
       "  Number over 15 Above roadwidth_average roadwidth_minimum length_total   \n",
       "0                  NaN               5.2               NaN  2209.182012  \\\n",
       "1                  NaN               4.0               3.2   656.622934   \n",
       "2                  NaN               5.0               4.1   614.587727   \n",
       "3                  NaN               4.4               3.1  1174.929448   \n",
       "4                  NaN               5.8               4.0  1204.895873   \n",
       "\n",
       "   length_in_buffer  percent_in_buffer   \n",
       "0       2209.182012                1.0  \\\n",
       "1        656.622934                1.0   \n",
       "2        614.587727                1.0   \n",
       "3       1174.929448                1.0   \n",
       "4       1204.895873                1.0   \n",
       "\n",
       "                                            geometry         survey_flag   \n",
       "0  MULTILINESTRING ((264275.866 734983.274, 26433...  partially surveyed  \\\n",
       "1  MULTILINESTRING ((261274.037 707315.032, 26127...  partially surveyed   \n",
       "2  MULTILINESTRING ((255564.000 716216.000, 25558...  partially surveyed   \n",
       "3  MULTILINESTRING ((258317.000 732240.000, 25829...  partially surveyed   \n",
       "4  MULTILINESTRING ((259323.217 733055.412, 25933...  partially surveyed   \n",
       "\n",
       "   within_settlement  propensity_for_quietway  \n",
       "0              False          Likely Quietway  \n",
       "1              False      Definitely Quietway  \n",
       "2              False      Definitely Quietway  \n",
       "3              False          Likely Quietway  \n",
       "4              False      Definitely Quietway  \n",
       "\n",
       "[5 rows x 153 columns]"
      ]
     },
     "execution_count": 161,
     "metadata": {},
     "output_type": "execute_result"
    }
   ],
   "source": [
    "quietway_assessment_intersect.head()"
   ]
  },
  {
   "cell_type": "code",
   "execution_count": null,
   "id": "40ebe777-5c58-434b-a316-3e9074739e2f",
   "metadata": {},
   "outputs": [],
   "source": []
  },
  {
   "cell_type": "code",
   "execution_count": 162,
   "id": "f4825272-88df-48a8-b2d7-d790e7f0b07f",
   "metadata": {},
   "outputs": [
    {
     "name": "stdout",
     "output_type": "stream",
     "text": [
      "0\n"
     ]
    }
   ],
   "source": [
    "print(quietway_assessment_intersect['Modelled AADT'].isnull().sum())"
   ]
  },
  {
   "cell_type": "code",
   "execution_count": 163,
   "id": "d06947af-91d0-4420-8fc0-847fcc9b17c7",
   "metadata": {
    "scrolled": true
   },
   "outputs": [
    {
     "data": {
      "text/html": [
       "<div>\n",
       "<style scoped>\n",
       "    .dataframe tbody tr th:only-of-type {\n",
       "        vertical-align: middle;\n",
       "    }\n",
       "\n",
       "    .dataframe tbody tr th {\n",
       "        vertical-align: top;\n",
       "    }\n",
       "\n",
       "    .dataframe thead th {\n",
       "        text-align: right;\n",
       "    }\n",
       "</style>\n",
       "<table border=\"1\" class=\"dataframe\">\n",
       "  <thead>\n",
       "    <tr style=\"text-align: right;\">\n",
       "      <th></th>\n",
       "      <th>within_settlement</th>\n",
       "      <th>propensity_for_quietway</th>\n",
       "      <th>Modelled AADT</th>\n",
       "      <th>85th %ile Speed - All Day</th>\n",
       "      <th>survey_flag</th>\n",
       "    </tr>\n",
       "  </thead>\n",
       "  <tbody>\n",
       "    <tr>\n",
       "      <th>0</th>\n",
       "      <td>False</td>\n",
       "      <td>Likely Quietway</td>\n",
       "      <td>136.175814</td>\n",
       "      <td>30.843303</td>\n",
       "      <td>partially surveyed</td>\n",
       "    </tr>\n",
       "    <tr>\n",
       "      <th>1</th>\n",
       "      <td>False</td>\n",
       "      <td>Definitely Quietway</td>\n",
       "      <td>114.560606</td>\n",
       "      <td>27.574892</td>\n",
       "      <td>partially surveyed</td>\n",
       "    </tr>\n",
       "    <tr>\n",
       "      <th>2</th>\n",
       "      <td>False</td>\n",
       "      <td>Definitely Quietway</td>\n",
       "      <td>44.311178</td>\n",
       "      <td>19.874551</td>\n",
       "      <td>partially surveyed</td>\n",
       "    </tr>\n",
       "    <tr>\n",
       "      <th>3</th>\n",
       "      <td>False</td>\n",
       "      <td>Likely Quietway</td>\n",
       "      <td>195.617638</td>\n",
       "      <td>31.306224</td>\n",
       "      <td>partially surveyed</td>\n",
       "    </tr>\n",
       "    <tr>\n",
       "      <th>4</th>\n",
       "      <td>False</td>\n",
       "      <td>Definitely Quietway</td>\n",
       "      <td>176.163950</td>\n",
       "      <td>29.754350</td>\n",
       "      <td>partially surveyed</td>\n",
       "    </tr>\n",
       "    <tr>\n",
       "      <th>5</th>\n",
       "      <td>False</td>\n",
       "      <td>Definitely Quietway</td>\n",
       "      <td>164.275586</td>\n",
       "      <td>25.477764</td>\n",
       "      <td>partially surveyed</td>\n",
       "    </tr>\n",
       "    <tr>\n",
       "      <th>6</th>\n",
       "      <td>False</td>\n",
       "      <td>Likely Quietway</td>\n",
       "      <td>126.448970</td>\n",
       "      <td>30.128726</td>\n",
       "      <td>partially surveyed</td>\n",
       "    </tr>\n",
       "    <tr>\n",
       "      <th>7</th>\n",
       "      <td>False</td>\n",
       "      <td>Definitely Quietway</td>\n",
       "      <td>48.634219</td>\n",
       "      <td>21.249335</td>\n",
       "      <td>fully surveyed</td>\n",
       "    </tr>\n",
       "    <tr>\n",
       "      <th>8</th>\n",
       "      <td>False</td>\n",
       "      <td>Definitely Quietway</td>\n",
       "      <td>83.218553</td>\n",
       "      <td>21.833424</td>\n",
       "      <td>fully surveyed</td>\n",
       "    </tr>\n",
       "    <tr>\n",
       "      <th>9</th>\n",
       "      <td>False</td>\n",
       "      <td>Definitely Quietway</td>\n",
       "      <td>384.750713</td>\n",
       "      <td>29.207544</td>\n",
       "      <td>partially surveyed</td>\n",
       "    </tr>\n",
       "    <tr>\n",
       "      <th>10</th>\n",
       "      <td>True</td>\n",
       "      <td>Make Quietway</td>\n",
       "      <td>536.057174</td>\n",
       "      <td>37.134684</td>\n",
       "      <td>fully surveyed</td>\n",
       "    </tr>\n",
       "    <tr>\n",
       "      <th>11</th>\n",
       "      <td>False</td>\n",
       "      <td>Likely Quietway</td>\n",
       "      <td>201.021440</td>\n",
       "      <td>33.024315</td>\n",
       "      <td>partially surveyed</td>\n",
       "    </tr>\n",
       "    <tr>\n",
       "      <th>12</th>\n",
       "      <td>False</td>\n",
       "      <td>Definitely Quietway</td>\n",
       "      <td>141.579616</td>\n",
       "      <td>27.043619</td>\n",
       "      <td>partially surveyed</td>\n",
       "    </tr>\n",
       "    <tr>\n",
       "      <th>13</th>\n",
       "      <td>True</td>\n",
       "      <td>Make Quietway</td>\n",
       "      <td>1320.689247</td>\n",
       "      <td>33.061597</td>\n",
       "      <td>fully surveyed</td>\n",
       "    </tr>\n",
       "    <tr>\n",
       "      <th>15</th>\n",
       "      <td>False</td>\n",
       "      <td>Definitely Quietway</td>\n",
       "      <td>137.256575</td>\n",
       "      <td>28.530249</td>\n",
       "      <td>partially surveyed</td>\n",
       "    </tr>\n",
       "    <tr>\n",
       "      <th>16</th>\n",
       "      <td>True</td>\n",
       "      <td>Make Quietway</td>\n",
       "      <td>1785.416232</td>\n",
       "      <td>22.836938</td>\n",
       "      <td>fully surveyed</td>\n",
       "    </tr>\n",
       "    <tr>\n",
       "      <th>17</th>\n",
       "      <td>True</td>\n",
       "      <td>Make Quietway</td>\n",
       "      <td>419.335047</td>\n",
       "      <td>25.744954</td>\n",
       "      <td>partially surveyed</td>\n",
       "    </tr>\n",
       "    <tr>\n",
       "      <th>18</th>\n",
       "      <td>True</td>\n",
       "      <td>Make Quietway</td>\n",
       "      <td>2146.390216</td>\n",
       "      <td>25.342616</td>\n",
       "      <td>fully surveyed</td>\n",
       "    </tr>\n",
       "    <tr>\n",
       "      <th>19</th>\n",
       "      <td>True</td>\n",
       "      <td>Definitely Quietway</td>\n",
       "      <td>117.802887</td>\n",
       "      <td>16.530022</td>\n",
       "      <td>fully surveyed</td>\n",
       "    </tr>\n",
       "    <tr>\n",
       "      <th>20</th>\n",
       "      <td>True</td>\n",
       "      <td>Make Quietway</td>\n",
       "      <td>643.052456</td>\n",
       "      <td>29.707748</td>\n",
       "      <td>fully surveyed</td>\n",
       "    </tr>\n",
       "  </tbody>\n",
       "</table>\n",
       "</div>"
      ],
      "text/plain": [
       "    within_settlement propensity_for_quietway  Modelled AADT   \n",
       "0               False         Likely Quietway     136.175814  \\\n",
       "1               False     Definitely Quietway     114.560606   \n",
       "2               False     Definitely Quietway      44.311178   \n",
       "3               False         Likely Quietway     195.617638   \n",
       "4               False     Definitely Quietway     176.163950   \n",
       "5               False     Definitely Quietway     164.275586   \n",
       "6               False         Likely Quietway     126.448970   \n",
       "7               False     Definitely Quietway      48.634219   \n",
       "8               False     Definitely Quietway      83.218553   \n",
       "9               False     Definitely Quietway     384.750713   \n",
       "10               True           Make Quietway     536.057174   \n",
       "11              False         Likely Quietway     201.021440   \n",
       "12              False     Definitely Quietway     141.579616   \n",
       "13               True           Make Quietway    1320.689247   \n",
       "15              False     Definitely Quietway     137.256575   \n",
       "16               True           Make Quietway    1785.416232   \n",
       "17               True           Make Quietway     419.335047   \n",
       "18               True           Make Quietway    2146.390216   \n",
       "19               True     Definitely Quietway     117.802887   \n",
       "20               True           Make Quietway     643.052456   \n",
       "\n",
       "    85th %ile Speed - All Day         survey_flag  \n",
       "0                   30.843303  partially surveyed  \n",
       "1                   27.574892  partially surveyed  \n",
       "2                   19.874551  partially surveyed  \n",
       "3                   31.306224  partially surveyed  \n",
       "4                   29.754350  partially surveyed  \n",
       "5                   25.477764  partially surveyed  \n",
       "6                   30.128726  partially surveyed  \n",
       "7                   21.249335      fully surveyed  \n",
       "8                   21.833424      fully surveyed  \n",
       "9                   29.207544  partially surveyed  \n",
       "10                  37.134684      fully surveyed  \n",
       "11                  33.024315  partially surveyed  \n",
       "12                  27.043619  partially surveyed  \n",
       "13                  33.061597      fully surveyed  \n",
       "15                  28.530249  partially surveyed  \n",
       "16                  22.836938      fully surveyed  \n",
       "17                  25.744954  partially surveyed  \n",
       "18                  25.342616      fully surveyed  \n",
       "19                  16.530022      fully surveyed  \n",
       "20                  29.707748      fully surveyed  "
      ]
     },
     "execution_count": 163,
     "metadata": {},
     "output_type": "execute_result"
    }
   ],
   "source": [
    "# Manually check the accuracy \n",
    "fields = [\n",
    "    'within_settlement',\n",
    "    'propensity_for_quietway',\n",
    "    'Modelled AADT',\n",
    "    '85th %ile Speed - All Day',\n",
    "    'survey_flag'\n",
    "]\n",
    "\n",
    "quietway_assessment_intersect[fields].head(20)\n"
   ]
  },
  {
   "cell_type": "markdown",
   "id": "32877305-5fd0-4831-9c7b-3d8e669124e7",
   "metadata": {},
   "source": [
    "**After manual check, nothing is wrong from the table and the allocated quientness value. I planed to go back to the map to check the differences and see the exact value difference.**"
   ]
  },
  {
   "cell_type": "code",
   "execution_count": null,
   "id": "e4ebdf6a-2bb4-4e88-8597-96511d4520fa",
   "metadata": {},
   "outputs": [],
   "source": [
    "quietway_assessment_cici = quietway_assessment.loc[quietway_assessment_intersect.index]\n"
   ]
  },
  {
   "cell_type": "code",
   "execution_count": 166,
   "id": "29df02e2-00df-4221-9bea-c6b94388cf40",
   "metadata": {},
   "outputs": [],
   "source": [
    "quietway_assessment_cici= quietway_assessment.merge(\n",
    "    quietway_assessment_intersect[['propensity_for_quietway','within_settlement']],\n",
    "    left_index=True, right_index=True, how='left'\n",
    ")"
   ]
  },
  {
   "cell_type": "code",
   "execution_count": 167,
   "id": "2eae5e9a-1476-4a94-bce3-a39169cc0c99",
   "metadata": {},
   "outputs": [
    {
     "data": {
      "text/plain": [
       "9807"
      ]
     },
     "execution_count": 167,
     "metadata": {},
     "output_type": "execute_result"
    }
   ],
   "source": [
    "len(quietway_assessment_intersect)"
   ]
  },
  {
   "cell_type": "code",
   "execution_count": 168,
   "id": "f32330b5-50e5-4b02-8087-2d07e8be4b03",
   "metadata": {},
   "outputs": [
    {
     "data": {
      "text/plain": [
       "10478"
      ]
     },
     "execution_count": 168,
     "metadata": {},
     "output_type": "execute_result"
    }
   ],
   "source": [
    "len(agilysis_selected_clean)"
   ]
  },
  {
   "cell_type": "code",
   "execution_count": 169,
   "id": "6363e09a-53a8-44c7-a6d6-8a76278cecbb",
   "metadata": {},
   "outputs": [
    {
     "data": {
      "text/plain": [
       "10478"
      ]
     },
     "execution_count": 169,
     "metadata": {},
     "output_type": "execute_result"
    }
   ],
   "source": [
    "len(quietway_assessment)"
   ]
  },
  {
   "cell_type": "code",
   "execution_count": 170,
   "id": "1cc70fd9-bd27-4a63-ab8f-61342fa73f1f",
   "metadata": {},
   "outputs": [
    {
     "data": {
      "text/plain": [
       "10478"
      ]
     },
     "execution_count": 170,
     "metadata": {},
     "output_type": "execute_result"
    }
   ],
   "source": [
    "len(quietway_assessment_cici)"
   ]
  },
  {
   "cell_type": "code",
   "execution_count": 171,
   "id": "0725badc-d5c9-4ba6-9287-134ca5275cba",
   "metadata": {},
   "outputs": [
    {
     "data": {
      "text/html": [
       "<div>\n",
       "<style scoped>\n",
       "    .dataframe tbody tr th:only-of-type {\n",
       "        vertical-align: middle;\n",
       "    }\n",
       "\n",
       "    .dataframe tbody tr th {\n",
       "        vertical-align: top;\n",
       "    }\n",
       "\n",
       "    .dataframe thead th {\n",
       "        text-align: right;\n",
       "    }\n",
       "</style>\n",
       "<table border=\"1\" class=\"dataframe\">\n",
       "  <thead>\n",
       "    <tr style=\"text-align: right;\">\n",
       "      <th></th>\n",
       "      <th>OS Link ID</th>\n",
       "      <th>Road Classification</th>\n",
       "      <th>Road Classification Number</th>\n",
       "      <th>Form of Way</th>\n",
       "      <th>Length (km)</th>\n",
       "      <th>Trunk Road</th>\n",
       "      <th>Highway Authority Code</th>\n",
       "      <th>Highway Authority Name</th>\n",
       "      <th>Speed Limit (mph)</th>\n",
       "      <th>Speed Limit Evidence date</th>\n",
       "      <th>...</th>\n",
       "      <th>Number over 15 Above</th>\n",
       "      <th>roadwidth_average</th>\n",
       "      <th>roadwidth_minimum</th>\n",
       "      <th>length_total</th>\n",
       "      <th>length_in_buffer</th>\n",
       "      <th>percent_in_buffer</th>\n",
       "      <th>geometry</th>\n",
       "      <th>survey_flag</th>\n",
       "      <th>propensity_for_quietway</th>\n",
       "      <th>within_settlement</th>\n",
       "    </tr>\n",
       "  </thead>\n",
       "  <tbody>\n",
       "    <tr>\n",
       "      <th>0</th>\n",
       "      <td>osgb4000000004292146</td>\n",
       "      <td>Classified Unnumbered</td>\n",
       "      <td>NaN</td>\n",
       "      <td>Single Carriageway</td>\n",
       "      <td>2.209182</td>\n",
       "      <td>false</td>\n",
       "      <td>S12000030</td>\n",
       "      <td>Stirling</td>\n",
       "      <td>60</td>\n",
       "      <td>NaN</td>\n",
       "      <td>...</td>\n",
       "      <td>NaN</td>\n",
       "      <td>5.2</td>\n",
       "      <td>NaN</td>\n",
       "      <td>2209.182012</td>\n",
       "      <td>2209.182012</td>\n",
       "      <td>1.0</td>\n",
       "      <td>MULTILINESTRING ((264275.866 734983.274, 26433...</td>\n",
       "      <td>partially surveyed</td>\n",
       "      <td>Likely Quietway</td>\n",
       "      <td>False</td>\n",
       "    </tr>\n",
       "    <tr>\n",
       "      <th>1</th>\n",
       "      <td>osgb4000000004292724</td>\n",
       "      <td>Classified Unnumbered</td>\n",
       "      <td>NaN</td>\n",
       "      <td>Single Carriageway</td>\n",
       "      <td>0.656623</td>\n",
       "      <td>false</td>\n",
       "      <td>S12000030</td>\n",
       "      <td>Stirling</td>\n",
       "      <td>60</td>\n",
       "      <td>NaN</td>\n",
       "      <td>...</td>\n",
       "      <td>NaN</td>\n",
       "      <td>4.0</td>\n",
       "      <td>3.2</td>\n",
       "      <td>656.622934</td>\n",
       "      <td>656.622934</td>\n",
       "      <td>1.0</td>\n",
       "      <td>MULTILINESTRING ((261274.037 707315.032, 26127...</td>\n",
       "      <td>partially surveyed</td>\n",
       "      <td>Definitely Quietway</td>\n",
       "      <td>False</td>\n",
       "    </tr>\n",
       "    <tr>\n",
       "      <th>2</th>\n",
       "      <td>osgb4000000004292780</td>\n",
       "      <td>Unknown</td>\n",
       "      <td>NaN</td>\n",
       "      <td>Single Carriageway</td>\n",
       "      <td>0.614588</td>\n",
       "      <td>false</td>\n",
       "      <td>S12000030</td>\n",
       "      <td>Stirling</td>\n",
       "      <td>30</td>\n",
       "      <td>NaN</td>\n",
       "      <td>...</td>\n",
       "      <td>NaN</td>\n",
       "      <td>5.0</td>\n",
       "      <td>4.1</td>\n",
       "      <td>614.587727</td>\n",
       "      <td>614.587727</td>\n",
       "      <td>1.0</td>\n",
       "      <td>MULTILINESTRING ((255564.000 716216.000, 25558...</td>\n",
       "      <td>partially surveyed</td>\n",
       "      <td>Definitely Quietway</td>\n",
       "      <td>False</td>\n",
       "    </tr>\n",
       "    <tr>\n",
       "      <th>3</th>\n",
       "      <td>osgb4000000004293117</td>\n",
       "      <td>Classified Unnumbered</td>\n",
       "      <td>NaN</td>\n",
       "      <td>Single Carriageway</td>\n",
       "      <td>1.174929</td>\n",
       "      <td>false</td>\n",
       "      <td>S12000030</td>\n",
       "      <td>Stirling</td>\n",
       "      <td>60</td>\n",
       "      <td>NaN</td>\n",
       "      <td>...</td>\n",
       "      <td>NaN</td>\n",
       "      <td>4.4</td>\n",
       "      <td>3.1</td>\n",
       "      <td>1174.929448</td>\n",
       "      <td>1174.929448</td>\n",
       "      <td>1.0</td>\n",
       "      <td>MULTILINESTRING ((258317.000 732240.000, 25829...</td>\n",
       "      <td>partially surveyed</td>\n",
       "      <td>Likely Quietway</td>\n",
       "      <td>False</td>\n",
       "    </tr>\n",
       "    <tr>\n",
       "      <th>4</th>\n",
       "      <td>osgb4000000004293123</td>\n",
       "      <td>Classified Unnumbered</td>\n",
       "      <td>NaN</td>\n",
       "      <td>Single Carriageway</td>\n",
       "      <td>1.204896</td>\n",
       "      <td>false</td>\n",
       "      <td>S12000030</td>\n",
       "      <td>Stirling</td>\n",
       "      <td>60</td>\n",
       "      <td>NaN</td>\n",
       "      <td>...</td>\n",
       "      <td>NaN</td>\n",
       "      <td>5.8</td>\n",
       "      <td>4.0</td>\n",
       "      <td>1204.895873</td>\n",
       "      <td>1204.895873</td>\n",
       "      <td>1.0</td>\n",
       "      <td>MULTILINESTRING ((259323.217 733055.412, 25933...</td>\n",
       "      <td>partially surveyed</td>\n",
       "      <td>Definitely Quietway</td>\n",
       "      <td>False</td>\n",
       "    </tr>\n",
       "  </tbody>\n",
       "</table>\n",
       "<p>5 rows × 153 columns</p>\n",
       "</div>"
      ],
      "text/plain": [
       "             OS Link ID    Road Classification Road Classification Number   \n",
       "0  osgb4000000004292146  Classified Unnumbered                        NaN  \\\n",
       "1  osgb4000000004292724  Classified Unnumbered                        NaN   \n",
       "2  osgb4000000004292780                Unknown                        NaN   \n",
       "3  osgb4000000004293117  Classified Unnumbered                        NaN   \n",
       "4  osgb4000000004293123  Classified Unnumbered                        NaN   \n",
       "\n",
       "          Form of Way  Length (km) Trunk Road Highway Authority Code   \n",
       "0  Single Carriageway     2.209182      false              S12000030  \\\n",
       "1  Single Carriageway     0.656623      false              S12000030   \n",
       "2  Single Carriageway     0.614588      false              S12000030   \n",
       "3  Single Carriageway     1.174929      false              S12000030   \n",
       "4  Single Carriageway     1.204896      false              S12000030   \n",
       "\n",
       "  Highway Authority Name  Speed Limit (mph) Speed Limit Evidence date  ...   \n",
       "0               Stirling                 60                       NaN  ...  \\\n",
       "1               Stirling                 60                       NaN  ...   \n",
       "2               Stirling                 30                       NaN  ...   \n",
       "3               Stirling                 60                       NaN  ...   \n",
       "4               Stirling                 60                       NaN  ...   \n",
       "\n",
       "  Number over 15 Above roadwidth_average roadwidth_minimum length_total   \n",
       "0                  NaN               5.2               NaN  2209.182012  \\\n",
       "1                  NaN               4.0               3.2   656.622934   \n",
       "2                  NaN               5.0               4.1   614.587727   \n",
       "3                  NaN               4.4               3.1  1174.929448   \n",
       "4                  NaN               5.8               4.0  1204.895873   \n",
       "\n",
       "   length_in_buffer  percent_in_buffer   \n",
       "0       2209.182012                1.0  \\\n",
       "1        656.622934                1.0   \n",
       "2        614.587727                1.0   \n",
       "3       1174.929448                1.0   \n",
       "4       1204.895873                1.0   \n",
       "\n",
       "                                            geometry         survey_flag   \n",
       "0  MULTILINESTRING ((264275.866 734983.274, 26433...  partially surveyed  \\\n",
       "1  MULTILINESTRING ((261274.037 707315.032, 26127...  partially surveyed   \n",
       "2  MULTILINESTRING ((255564.000 716216.000, 25558...  partially surveyed   \n",
       "3  MULTILINESTRING ((258317.000 732240.000, 25829...  partially surveyed   \n",
       "4  MULTILINESTRING ((259323.217 733055.412, 25933...  partially surveyed   \n",
       "\n",
       "   propensity_for_quietway  within_settlement  \n",
       "0          Likely Quietway              False  \n",
       "1      Definitely Quietway              False  \n",
       "2      Definitely Quietway              False  \n",
       "3          Likely Quietway              False  \n",
       "4      Definitely Quietway              False  \n",
       "\n",
       "[5 rows x 153 columns]"
      ]
     },
     "execution_count": 171,
     "metadata": {},
     "output_type": "execute_result"
    }
   ],
   "source": [
    "quietway_assessment_cici.head()"
   ]
  },
  {
   "cell_type": "code",
   "execution_count": 174,
   "id": "d6a46930-6bcf-4d0b-aa4d-19878c6059ed",
   "metadata": {},
   "outputs": [
    {
     "name": "stderr",
     "output_type": "stream",
     "text": [
      "/var/folders/74/ch5llxvd3klg6n6_l6_s335w0000gn/T/ipykernel_70864/449450616.py:1: UserWarning: Column names longer than 10 characters will be truncated when saved to ESRI Shapefile.\n",
      "  quietway_assessment_cici.to_file(\"quietway_assessment_cici.shp\", driver=\"ESRI Shapefile\")\n"
     ]
    }
   ],
   "source": [
    "quietway_assessment_cici.to_file(\"quietway_assessment_cici.shp\", driver=\"ESRI Shapefile\")\n"
   ]
  },
  {
   "cell_type": "markdown",
   "id": "2768b3d1-efed-40f8-b562-b6b8308cc98c",
   "metadata": {},
   "source": [
    "# Statistical summary"
   ]
  },
  {
   "cell_type": "code",
   "execution_count": 172,
   "id": "bc3438a3-22c1-4dde-89cc-8360951370ba",
   "metadata": {
    "scrolled": true
   },
   "outputs": [
    {
     "data": {
      "text/plain": [
       "propensity_for_quietway\n",
       "Make Quietway          4282\n",
       "Definitely Quietway    2151\n",
       "Make Traffic Free      1953\n",
       "Likely Quietway        1421\n",
       "NaN                     671\n",
       "Name: count, dtype: int64"
      ]
     },
     "execution_count": 172,
     "metadata": {},
     "output_type": "execute_result"
    }
   ],
   "source": [
    "quietway_assessment_cici['propensity_for_quietway'].value_counts(dropna=False)\n"
   ]
  },
  {
   "cell_type": "code",
   "execution_count": 173,
   "id": "40f15449-7d77-4f72-b248-ad79df10a2f9",
   "metadata": {},
   "outputs": [
    {
     "data": {
      "text/plain": [
       "propensity_for_quietway\n",
       "Make Quietway          4282\n",
       "Definitely Quietway    2151\n",
       "Make Traffic Free      1953\n",
       "Likely Quietway        1421\n",
       "Name: count, dtype: int64"
      ]
     },
     "execution_count": 173,
     "metadata": {},
     "output_type": "execute_result"
    }
   ],
   "source": [
    "quietway_assessment_intersect['propensity_for_quietway'].value_counts(dropna=False)\n"
   ]
  },
  {
   "cell_type": "code",
   "execution_count": 176,
   "id": "c3a954d7-e808-41b2-a751-6df1f97f6ffb",
   "metadata": {},
   "outputs": [],
   "source": [
    "proportions = quietway_assessment_cici['propensity_for_quietway'].value_counts(normalize=True, dropna=False)\n"
   ]
  },
  {
   "cell_type": "code",
   "execution_count": 177,
   "id": "a5df85c9-743b-447d-bf06-42d6e385865e",
   "metadata": {},
   "outputs": [
    {
     "data": {
      "text/plain": [
       "propensity_for_quietway\n",
       "Make Quietway          0.408666\n",
       "Definitely Quietway    0.205287\n",
       "Make Traffic Free      0.186391\n",
       "Likely Quietway        0.135617\n",
       "NaN                    0.064039\n",
       "Name: proportion, dtype: float64"
      ]
     },
     "execution_count": 177,
     "metadata": {},
     "output_type": "execute_result"
    }
   ],
   "source": [
    "proportions"
   ]
  },
  {
   "cell_type": "code",
   "execution_count": 178,
   "id": "3bbfb54d-3cfe-46ec-9db5-eedc1aa2d327",
   "metadata": {},
   "outputs": [],
   "source": [
    "# Make a clean copy\n",
    "df = quietway_assessment_cici.copy()\n",
    "\n",
    "# Calculate lengths\n",
    "df['length_m'] = df.geometry.length\n",
    "df['length_km'] = df['length_m'] / 1000\n",
    "df['length_miles'] = df['length_m'] * 0.000621371\n",
    "\n",
    "df['quietway_class'] = df['propensity_for_quietway'].fillna('no volume and/or 85th percentile speed').str.lower().str.strip()\n",
    "\n",
    "# Group and summarise\n",
    "summary = df.groupby('quietway_class').agg(\n",
    "    count=('geometry', 'count'),\n",
    "    length_m=('length_m', 'sum'),\n",
    "    length_km=('length_km', 'sum'),\n",
    "    length_miles=('length_miles', 'sum')\n",
    ").reset_index()\n",
    "\n",
    "summary[['length_m', 'length_km', 'length_miles']] = summary[['length_m', 'length_km', 'length_miles']].round(0)\n",
    "\n",
    "# Desired order of categories\n",
    "desired_order = [\n",
    "    'definitely quietway',\n",
    "    'likely quietway',\n",
    "    'make quietway',\n",
    "    'make traffic free',\n",
    "    'no volume and/or 85th percentile speed'\n",
    "]\n",
    "\n",
    "# Order and add total\n",
    "summary['quietway_class'] = pd.Categorical(summary['quietway_class'], categories=desired_order, ordered=True)\n",
    "summary = summary.sort_values('quietway_class')\n",
    "\n",
    "grand_total = pd.DataFrame({\n",
    "    'quietway_class': ['Total'],\n",
    "    'count': [summary['count'].sum()],\n",
    "    'length_m': [summary['length_m'].sum()],\n",
    "    'length_km': [summary['length_km'].sum()],\n",
    "    'length_miles': [summary['length_miles'].sum()]\n",
    "})\n",
    "\n",
    "summary = pd.concat([summary, grand_total], ignore_index=True)"
   ]
  },
  {
   "cell_type": "code",
   "execution_count": 179,
   "id": "7c4f9044-236f-471c-ae49-665427ee5bc6",
   "metadata": {},
   "outputs": [
    {
     "data": {
      "text/html": [
       "<div>\n",
       "<style scoped>\n",
       "    .dataframe tbody tr th:only-of-type {\n",
       "        vertical-align: middle;\n",
       "    }\n",
       "\n",
       "    .dataframe tbody tr th {\n",
       "        vertical-align: top;\n",
       "    }\n",
       "\n",
       "    .dataframe thead th {\n",
       "        text-align: right;\n",
       "    }\n",
       "</style>\n",
       "<table border=\"1\" class=\"dataframe\">\n",
       "  <thead>\n",
       "    <tr style=\"text-align: right;\">\n",
       "      <th></th>\n",
       "      <th>quietway_class</th>\n",
       "      <th>count</th>\n",
       "      <th>length_m</th>\n",
       "      <th>length_km</th>\n",
       "      <th>length_miles</th>\n",
       "    </tr>\n",
       "  </thead>\n",
       "  <tbody>\n",
       "    <tr>\n",
       "      <th>0</th>\n",
       "      <td>definitely quietway</td>\n",
       "      <td>2151</td>\n",
       "      <td>275905.0</td>\n",
       "      <td>276.0</td>\n",
       "      <td>171.0</td>\n",
       "    </tr>\n",
       "    <tr>\n",
       "      <th>1</th>\n",
       "      <td>likely quietway</td>\n",
       "      <td>1421</td>\n",
       "      <td>403484.0</td>\n",
       "      <td>403.0</td>\n",
       "      <td>251.0</td>\n",
       "    </tr>\n",
       "    <tr>\n",
       "      <th>2</th>\n",
       "      <td>make quietway</td>\n",
       "      <td>4282</td>\n",
       "      <td>481289.0</td>\n",
       "      <td>481.0</td>\n",
       "      <td>299.0</td>\n",
       "    </tr>\n",
       "    <tr>\n",
       "      <th>3</th>\n",
       "      <td>make traffic free</td>\n",
       "      <td>1953</td>\n",
       "      <td>121731.0</td>\n",
       "      <td>122.0</td>\n",
       "      <td>76.0</td>\n",
       "    </tr>\n",
       "    <tr>\n",
       "      <th>4</th>\n",
       "      <td>no volume and/or 85th percentile speed</td>\n",
       "      <td>671</td>\n",
       "      <td>88695.0</td>\n",
       "      <td>89.0</td>\n",
       "      <td>55.0</td>\n",
       "    </tr>\n",
       "    <tr>\n",
       "      <th>5</th>\n",
       "      <td>Total</td>\n",
       "      <td>10478</td>\n",
       "      <td>1371104.0</td>\n",
       "      <td>1371.0</td>\n",
       "      <td>852.0</td>\n",
       "    </tr>\n",
       "  </tbody>\n",
       "</table>\n",
       "</div>"
      ],
      "text/plain": [
       "                           quietway_class  count   length_m  length_km   \n",
       "0                     definitely quietway   2151   275905.0      276.0  \\\n",
       "1                         likely quietway   1421   403484.0      403.0   \n",
       "2                           make quietway   4282   481289.0      481.0   \n",
       "3                       make traffic free   1953   121731.0      122.0   \n",
       "4  no volume and/or 85th percentile speed    671    88695.0       89.0   \n",
       "5                                   Total  10478  1371104.0     1371.0   \n",
       "\n",
       "   length_miles  \n",
       "0         171.0  \n",
       "1         251.0  \n",
       "2         299.0  \n",
       "3          76.0  \n",
       "4          55.0  \n",
       "5         852.0  "
      ]
     },
     "execution_count": 179,
     "metadata": {},
     "output_type": "execute_result"
    }
   ],
   "source": [
    "summary"
   ]
  },
  {
   "cell_type": "code",
   "execution_count": null,
   "id": "b5ab9f5d-6163-4a78-92a0-75a37046c598",
   "metadata": {},
   "outputs": [],
   "source": []
  }
 ],
 "metadata": {
  "kernelspec": {
   "display_name": "Python 3 (ipykernel)",
   "language": "python",
   "name": "python3"
  },
  "language_info": {
   "codemirror_mode": {
    "name": "ipython",
    "version": 3
   },
   "file_extension": ".py",
   "mimetype": "text/x-python",
   "name": "python",
   "nbconvert_exporter": "python",
   "pygments_lexer": "ipython3",
   "version": "3.10.10"
  }
 },
 "nbformat": 4,
 "nbformat_minor": 5
}
